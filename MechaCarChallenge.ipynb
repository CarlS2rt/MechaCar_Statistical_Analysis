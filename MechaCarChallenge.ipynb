{
 "cells": [
  {
   "cell_type": "code",
   "execution_count": 2,
   "id": "a8067bab",
   "metadata": {},
   "outputs": [
    {
     "name": "stderr",
     "output_type": "stream",
     "text": [
      "Warning message:\n",
      "\"package 'dplyr' was built under R version 3.6.3\"\n",
      "Attaching package: 'dplyr'\n",
      "\n",
      "The following objects are masked from 'package:stats':\n",
      "\n",
      "    filter, lag\n",
      "\n",
      "The following objects are masked from 'package:base':\n",
      "\n",
      "    intersect, setdiff, setequal, union\n",
      "\n"
     ]
    }
   ],
   "source": [
    "library(dplyr)"
   ]
  },
  {
   "cell_type": "code",
   "execution_count": 4,
   "id": "8c9275cb",
   "metadata": {},
   "outputs": [],
   "source": [
    "mech <- read.csv('MechaCar_mpg.csv',check.names = F,stringsAsFactors = F)"
   ]
  },
  {
   "cell_type": "code",
   "execution_count": 8,
   "id": "6f228de7",
   "metadata": {},
   "outputs": [
    {
     "data": {
      "text/plain": [
       "\n",
       "Call:\n",
       "lm(formula = mpg ~ vehicle_length + vehicle_weight + spoiler_angle + \n",
       "    ground_clearance + AWD, data = mech)\n",
       "\n",
       "Coefficients:\n",
       "     (Intercept)    vehicle_length    vehicle_weight     spoiler_angle  \n",
       "      -1.040e+02         6.267e+00         1.245e-03         6.877e-02  \n",
       "ground_clearance               AWD  \n",
       "       3.546e+00        -3.411e+00  \n"
      ]
     },
     "metadata": {},
     "output_type": "display_data"
    }
   ],
   "source": [
    "lm(mpg ~ vehicle_length + vehicle_weight + spoiler_angle + ground_clearance + AWD, data=mech)\n"
   ]
  },
  {
   "cell_type": "code",
   "execution_count": 9,
   "id": "1d71b86b",
   "metadata": {},
   "outputs": [
    {
     "data": {
      "text/plain": [
       "\n",
       "Call:\n",
       "lm(formula = mpg ~ vehicle_length + vehicle_weight + spoiler_angle + \n",
       "    ground_clearance + AWD, data = mech)\n",
       "\n",
       "Residuals:\n",
       "     Min       1Q   Median       3Q      Max \n",
       "-19.4701  -4.4994  -0.0692   5.4433  18.5849 \n",
       "\n",
       "Coefficients:\n",
       "                   Estimate Std. Error t value Pr(>|t|)    \n",
       "(Intercept)      -1.040e+02  1.585e+01  -6.559 5.08e-08 ***\n",
       "vehicle_length    6.267e+00  6.553e-01   9.563 2.60e-12 ***\n",
       "vehicle_weight    1.245e-03  6.890e-04   1.807   0.0776 .  \n",
       "spoiler_angle     6.877e-02  6.653e-02   1.034   0.3069    \n",
       "ground_clearance  3.546e+00  5.412e-01   6.551 5.21e-08 ***\n",
       "AWD              -3.411e+00  2.535e+00  -1.346   0.1852    \n",
       "---\n",
       "Signif. codes:  0 '***' 0.001 '**' 0.01 '*' 0.05 '.' 0.1 ' ' 1\n",
       "\n",
       "Residual standard error: 8.774 on 44 degrees of freedom\n",
       "Multiple R-squared:  0.7149,\tAdjusted R-squared:  0.6825 \n",
       "F-statistic: 22.07 on 5 and 44 DF,  p-value: 5.35e-11\n"
      ]
     },
     "metadata": {},
     "output_type": "display_data"
    }
   ],
   "source": [
    "summary(lm(mpg ~ vehicle_length + vehicle_weight + spoiler_angle + ground_clearance + AWD, data=mech))"
   ]
  },
  {
   "cell_type": "code",
   "execution_count": 10,
   "id": "5aaa5c85",
   "metadata": {},
   "outputs": [],
   "source": [
    "coils <- read.csv('Suspension_Coil.csv',check.names = F,stringsAsFactors = F)"
   ]
  },
  {
   "cell_type": "code",
   "execution_count": 20,
   "id": "7b32ef38",
   "metadata": {},
   "outputs": [
    {
     "data": {
      "text/html": [
       "<table>\n",
       "<thead><tr><th scope=col>Mean</th><th scope=col>Median</th><th scope=col>Variance</th><th scope=col>SD</th></tr></thead>\n",
       "<tbody>\n",
       "\t<tr><td>1498.78 </td><td>1500    </td><td>62.29356</td><td>7.892627</td></tr>\n",
       "</tbody>\n",
       "</table>\n"
      ],
      "text/latex": [
       "\\begin{tabular}{r|llll}\n",
       " Mean & Median & Variance & SD\\\\\n",
       "\\hline\n",
       "\t 1498.78  & 1500     & 62.29356 & 7.892627\\\\\n",
       "\\end{tabular}\n"
      ],
      "text/markdown": [
       "\n",
       "| Mean | Median | Variance | SD |\n",
       "|---|---|---|---|\n",
       "| 1498.78  | 1500     | 62.29356 | 7.892627 |\n",
       "\n"
      ],
      "text/plain": [
       "  Mean    Median Variance SD      \n",
       "1 1498.78 1500   62.29356 7.892627"
      ]
     },
     "metadata": {},
     "output_type": "display_data"
    }
   ],
   "source": [
    "total_summary <- coils %>% summarize(Mean=mean(PSI), Median=median(PSI), Variance=var(PSI), SD=sd(PSI), .groups = 'keep')\n",
    "total_summary"
   ]
  },
  {
   "cell_type": "code",
   "execution_count": 19,
   "id": "d8a7fa14",
   "metadata": {},
   "outputs": [
    {
     "data": {
      "text/html": [
       "<table>\n",
       "<thead><tr><th scope=col>Manufacturing_Lot</th><th scope=col>Mean</th><th scope=col>Median</th><th scope=col>Variance</th><th scope=col>SD</th></tr></thead>\n",
       "<tbody>\n",
       "\t<tr><td>Lot1       </td><td>1500.00    </td><td>1500.0     </td><td>  0.9795918</td><td> 0.9897433 </td></tr>\n",
       "\t<tr><td>Lot2       </td><td>1500.20    </td><td>1500.0     </td><td>  7.4693878</td><td> 2.7330181 </td></tr>\n",
       "\t<tr><td>Lot3       </td><td>1496.14    </td><td>1498.5     </td><td>170.2861224</td><td>13.0493725 </td></tr>\n",
       "</tbody>\n",
       "</table>\n"
      ],
      "text/latex": [
       "\\begin{tabular}{r|lllll}\n",
       " Manufacturing\\_Lot & Mean & Median & Variance & SD\\\\\n",
       "\\hline\n",
       "\t Lot1        & 1500.00     & 1500.0      &   0.9795918 &  0.9897433 \\\\\n",
       "\t Lot2        & 1500.20     & 1500.0      &   7.4693878 &  2.7330181 \\\\\n",
       "\t Lot3        & 1496.14     & 1498.5      & 170.2861224 & 13.0493725 \\\\\n",
       "\\end{tabular}\n"
      ],
      "text/markdown": [
       "\n",
       "| Manufacturing_Lot | Mean | Median | Variance | SD |\n",
       "|---|---|---|---|---|\n",
       "| Lot1        | 1500.00     | 1500.0      |   0.9795918 |  0.9897433  |\n",
       "| Lot2        | 1500.20     | 1500.0      |   7.4693878 |  2.7330181  |\n",
       "| Lot3        | 1496.14     | 1498.5      | 170.2861224 | 13.0493725  |\n",
       "\n"
      ],
      "text/plain": [
       "  Manufacturing_Lot Mean    Median Variance    SD        \n",
       "1 Lot1              1500.00 1500.0   0.9795918  0.9897433\n",
       "2 Lot2              1500.20 1500.0   7.4693878  2.7330181\n",
       "3 Lot3              1496.14 1498.5 170.2861224 13.0493725"
      ]
     },
     "metadata": {},
     "output_type": "display_data"
    }
   ],
   "source": [
    "lot_summary <- coils %>% group_by(Manufacturing_Lot) %>% summarize(Mean=mean(PSI), Median=median(PSI), Variance=var(PSI), SD=sd(PSI), .groups = 'keep')\n",
    "lot_summary"
   ]
  },
  {
   "cell_type": "code",
   "execution_count": 27,
   "id": "664ff76f",
   "metadata": {},
   "outputs": [
    {
     "data": {
      "text/plain": [
       "\n",
       "\tOne Sample t-test\n",
       "\n",
       "data:  coils$PSI\n",
       "t = -1.8931, df = 149, p-value = 0.06028\n",
       "alternative hypothesis: true mean is not equal to 1500\n",
       "95 percent confidence interval:\n",
       " 1497.507 1500.053\n",
       "sample estimates:\n",
       "mean of x \n",
       "  1498.78 \n"
      ]
     },
     "metadata": {},
     "output_type": "display_data"
    }
   ],
   "source": [
    "t.test(x=coils$PSI,mu=1500) \n"
   ]
  },
  {
   "cell_type": "code",
   "execution_count": 33,
   "id": "d9960b7b",
   "metadata": {},
   "outputs": [
    {
     "data": {
      "text/plain": [
       "\n",
       "\tOne Sample t-test\n",
       "\n",
       "data:  sub1$PSI\n",
       "t = 0, df = 49, p-value = 1\n",
       "alternative hypothesis: true mean is not equal to 1500\n",
       "95 percent confidence interval:\n",
       " 1499.719 1500.281\n",
       "sample estimates:\n",
       "mean of x \n",
       "     1500 \n"
      ]
     },
     "metadata": {},
     "output_type": "display_data"
    }
   ],
   "source": [
    "sub1  <-  subset(coils, Manufacturing_Lot=='Lot1')\n",
    "t.test(x=sub1$PSI,mu=1500)"
   ]
  },
  {
   "cell_type": "code",
   "execution_count": 35,
   "id": "24c752c9",
   "metadata": {},
   "outputs": [
    {
     "data": {
      "text/plain": [
       "\n",
       "\tOne Sample t-test\n",
       "\n",
       "data:  sub2$PSI\n",
       "t = 0.51745, df = 49, p-value = 0.6072\n",
       "alternative hypothesis: true mean is not equal to 1500\n",
       "95 percent confidence interval:\n",
       " 1499.423 1500.977\n",
       "sample estimates:\n",
       "mean of x \n",
       "   1500.2 \n"
      ]
     },
     "metadata": {},
     "output_type": "display_data"
    }
   ],
   "source": [
    "sub2  <-  subset(coils, Manufacturing_Lot=='Lot2')\n",
    "t.test(x=sub2$PSI,mu=1500)"
   ]
  },
  {
   "cell_type": "code",
   "execution_count": 36,
   "id": "cf43874b",
   "metadata": {},
   "outputs": [
    {
     "data": {
      "text/plain": [
       "\n",
       "\tOne Sample t-test\n",
       "\n",
       "data:  sub3$PSI\n",
       "t = -2.0916, df = 49, p-value = 0.04168\n",
       "alternative hypothesis: true mean is not equal to 1500\n",
       "95 percent confidence interval:\n",
       " 1492.431 1499.849\n",
       "sample estimates:\n",
       "mean of x \n",
       "  1496.14 \n"
      ]
     },
     "metadata": {},
     "output_type": "display_data"
    }
   ],
   "source": [
    "sub3  <-  subset(coils, Manufacturing_Lot=='Lot3')\n",
    "t.test(x=sub3$PSI,mu=1500)"
   ]
  },
  {
   "cell_type": "code",
   "execution_count": null,
   "id": "28e10e64",
   "metadata": {},
   "outputs": [],
   "source": []
  }
 ],
 "metadata": {
  "kernelspec": {
   "display_name": "R",
   "language": "R",
   "name": "ir"
  },
  "language_info": {
   "codemirror_mode": "r",
   "file_extension": ".r",
   "mimetype": "text/x-r-source",
   "name": "R",
   "pygments_lexer": "r",
   "version": "3.6.1"
  }
 },
 "nbformat": 4,
 "nbformat_minor": 5
}
